{
 "cells": [
  {
   "cell_type": "markdown",
   "metadata": {},
   "source": [
    "# Git"
   ]
  },
  {
   "cell_type": "markdown",
   "metadata": {},
   "source": [
    "Кладезь знаний про Git: https://git-scm.com/book/en/v2\n",
    "\n",
    "Git тренажер: https://gitexercises.fracz.com/. Я бы советовал пройти следующие упражнения:\n",
    "- master\n",
    "- commit-one-file\n",
    "- commit-one-file-staged\n",
    "- ignore-them\n",
    "- chase-branch\n",
    "- merge-conflict\n",
    "- save-your-work\n",
    "- remove-ignored\n",
    "- case-sensitive-filename\n",
    "- fix-typo\n",
    "- executable\n",
    "\n"
   ]
  },
  {
   "cell_type": "markdown",
   "metadata": {},
   "source": [
    "Git - распределённая система контроля версий, разработанная с прицелом на скорость и эффективность взаимодействия. Немного про историю Git: [ссылка](https://git-scm.com/book/ru/v2/%D0%92%D0%B2%D0%B5%D0%B4%D0%B5%D0%BD%D0%B8%D0%B5-%D0%9A%D1%80%D0%B0%D1%82%D0%BA%D0%B0%D1%8F-%D0%B8%D1%81%D1%82%D0%BE%D1%80%D0%B8%D1%8F-Git).\n",
    "\n",
    "![](images/dist_git.webp)"
   ]
  },
  {
   "cell_type": "markdown",
   "metadata": {},
   "source": [
    "У Git есть три основных состояния, в которых могут находиться ваши файлы: modified, staged и committed:\n",
    "\n",
    "![](images/git_states.jpg)"
   ]
  },
  {
   "cell_type": "markdown",
   "metadata": {},
   "source": [
    "![](images/git.png)"
   ]
  },
  {
   "cell_type": "markdown",
   "metadata": {},
   "source": [
    "# Где скачать\n",
    "- [Windows](https://git-scm.com/download/win/)\n",
    "- [Linux](https://git-scm.com/download/linux)\n",
    "- [MacOS](https://git-scm.com/download/mac)"
   ]
  },
  {
   "cell_type": "markdown",
   "metadata": {},
   "source": [
    "# Указываем имя и email"
   ]
  },
  {
   "cell_type": "code",
   "execution_count": 112,
   "metadata": {
    "vscode": {
     "languageId": "shellscript"
    }
   },
   "outputs": [
    {
     "name": "stdout",
     "output_type": "stream",
     "text": [
      "credential.helper=osxkeychain\n",
      "init.defaultbranch=main\n",
      "user.emal=ch00p.228@gmail.com\n",
      "user.name=Ch0p1k3\n",
      "user.email=ch00p.228@gmail.com\n",
      "core.repositoryformatversion=0\n",
      "core.filemode=true\n",
      "core.bare=false\n",
      "core.logallrefupdates=true\n",
      "core.ignorecase=true\n",
      "core.precomposeunicode=true\n",
      "remote.origin.url=git@github.com:Ch0p1k3/cpp-ami-2023.git\n",
      "remote.origin.fetch=+refs/heads/*:refs/remotes/origin/*\n",
      "branch.main.remote=origin\n",
      "branch.main.merge=refs/heads/main\n",
      "pull.rebase=true\n"
     ]
    }
   ],
   "source": [
    "!git config --list"
   ]
  },
  {
   "cell_type": "code",
   "execution_count": 81,
   "metadata": {
    "vscode": {
     "languageId": "shellscript"
    }
   },
   "outputs": [],
   "source": [
    "!git config --global user.name \"Ch0p1k3\"\n",
    "!git config --global user.email \"ch00p.228@gmail.com\""
   ]
  },
  {
   "cell_type": "markdown",
   "metadata": {
    "vscode": {
     "languageId": "shellscript"
    }
   },
   "source": [
    "# Создаем новый репозиторий"
   ]
  },
  {
   "cell_type": "code",
   "execution_count": 82,
   "metadata": {
    "vscode": {
     "languageId": "shellscript"
    }
   },
   "outputs": [
    {
     "name": "stdout",
     "output_type": "stream",
     "text": [
      "Initialized empty Git repository in /Users/chopik/test_repo/.git/\n"
     ]
    }
   ],
   "source": [
    "!mkdir ~/test_repo\n",
    "!git init ~/test_repo"
   ]
  },
  {
   "cell_type": "markdown",
   "metadata": {},
   "source": [
    "`ls` - посмотреть файлы в указанной директории (по-умолчанию текущая)"
   ]
  },
  {
   "cell_type": "code",
   "execution_count": 83,
   "metadata": {
    "vscode": {
     "languageId": "shellscript"
    }
   },
   "outputs": [
    {
     "name": "stdout",
     "output_type": "stream",
     "text": [
      "total 0\n",
      "0 drwxr-xr-x   3 chopik  LD\\Domain Users    96 Jan 14 19:00 \u001b[34m.\u001b[m\u001b[m\n",
      "0 drwxr-x---+ 50 chopik  LD\\Domain Users  1600 Jan 14 19:00 \u001b[34m..\u001b[m\u001b[m\n",
      "0 drwxr-xr-x   9 chopik  LD\\Domain Users   288 Jan 14 19:00 \u001b[34m.git\u001b[m\u001b[m\n"
     ]
    }
   ],
   "source": [
    "!ls -lsa ~/test_repo"
   ]
  },
  {
   "cell_type": "code",
   "execution_count": 84,
   "metadata": {
    "vscode": {
     "languageId": "shellscript"
    }
   },
   "outputs": [
    {
     "name": "stdout",
     "output_type": "stream",
     "text": [
      "total 24\n",
      "0 drwxr-xr-x   9 chopik  LD\\Domain Users  288 Jan 14 19:00 \u001b[34m.\u001b[m\u001b[m\n",
      "0 drwxr-xr-x   3 chopik  LD\\Domain Users   96 Jan 14 19:00 \u001b[34m..\u001b[m\u001b[m\n",
      "8 -rw-r--r--   1 chopik  LD\\Domain Users   21 Jan 14 19:00 HEAD\n",
      "8 -rw-r--r--   1 chopik  LD\\Domain Users  137 Jan 14 19:00 config\n",
      "8 -rw-r--r--   1 chopik  LD\\Domain Users   73 Jan 14 19:00 description\n",
      "0 drwxr-xr-x  15 chopik  LD\\Domain Users  480 Jan 14 19:00 \u001b[34mhooks\u001b[m\u001b[m\n",
      "0 drwxr-xr-x   3 chopik  LD\\Domain Users   96 Jan 14 19:00 \u001b[34minfo\u001b[m\u001b[m\n",
      "0 drwxr-xr-x   4 chopik  LD\\Domain Users  128 Jan 14 19:00 \u001b[34mobjects\u001b[m\u001b[m\n",
      "0 drwxr-xr-x   4 chopik  LD\\Domain Users  128 Jan 14 19:00 \u001b[34mrefs\u001b[m\u001b[m\n"
     ]
    }
   ],
   "source": [
    "!ls -lsa ~/test_repo/.git"
   ]
  },
  {
   "cell_type": "markdown",
   "metadata": {},
   "source": [
    "# Добавление ключей для взаимодействия с удаленным репозиторием"
   ]
  },
  {
   "cell_type": "markdown",
   "metadata": {},
   "source": [
    "Есть инструкция в [SETUP.md](https://gitlab.com/BigRedEye1/hse-base-cxx-2024/-/blob/main/SETUP.md?ref_type=heads#%D1%80%D0%B5%D0%B3%D0%B8%D1%81%D1%82%D1%80%D0%B0%D1%86%D0%B8%D1%8F-%D0%B2-%D1%81%D0%B8%D1%81%D1%82%D0%B5%D0%BC%D0%B5)"
   ]
  },
  {
   "cell_type": "markdown",
   "metadata": {},
   "source": [
    "Создаем ключ типа [RSA](https://ru.wikipedia.org/wiki/RSA) размером 2048 байт:\n",
    "```bash\n",
    "ssh-keygen -t rsa -b 2048\n",
    "```\n",
    "Выбираем путь:\n",
    "- Если создаете впервые, то можете просто нажать `enter`\n",
    "- Если делаете это не в первый раз, то стоит поменять название ключа, но настоятельно рекомендую оставить таким же путь, который по-умолчанию: обычно это `~/.ssh`. На все остальное можете просто нажать `enter`"
   ]
  },
  {
   "cell_type": "code",
   "execution_count": 113,
   "metadata": {
    "vscode": {
     "languageId": "shellscript"
    }
   },
   "outputs": [
    {
     "name": "stdout",
     "output_type": "stream",
     "text": [
      "ssh-rsa AAAAB3NzaC1yc2EAAAADAQABAAABAQDj1zhbpRRuVxfF5yu0WtSe71PC5ApdmX62TqvoSHf7wl7B46rO3JIE/PRzHZTjvsajYLi+8OZmHS0DJFF1I/W/QqkQ1FQPewNuEMwZAjDTfzXMktmDITAsKNZqbFwpgsdM18MDFzETq3M4rmp0uA6ZgA5pbd3MYrHXS3Pm8p5czf31QkIXL/JlJdcBRH4/pA//Ufxjn5mEuqx1XuFMNwOSSuCimVl8zvTuxsFDfR7bFv/5C1AevktSxFbXabeWD2ExyiWwJiDVWpSibeZ6w8h6mw8KXW0z9imatP7k2KNWx7jChoU3+mdia0kbVVT9lO3ZjwYG/WpLT9uA/b4k9FAF chopik@chopik-os\n"
     ]
    }
   ],
   "source": [
    "!cat ~/.ssh/id_rsa.pub"
   ]
  },
  {
   "cell_type": "code",
   "execution_count": 85,
   "metadata": {
    "vscode": {
     "languageId": "shellscript"
    }
   },
   "outputs": [
    {
     "name": "stdout",
     "output_type": "stream",
     "text": [
      "PTY allocation request failed on channel 0\n",
      "Welcome to GitLab, @chopik!\n",
      "Connection to gitlab.cpp-hse.net closed.\n"
     ]
    }
   ],
   "source": [
    "!ssh git@gitlab.cpp-hse.net"
   ]
  },
  {
   "cell_type": "markdown",
   "metadata": {},
   "source": [
    "# Клонируем существующий репозиторий"
   ]
  },
  {
   "cell_type": "markdown",
   "metadata": {},
   "source": [
    "![](images/terminology_gitlab_github_bb.png)"
   ]
  },
  {
   "cell_type": "markdown",
   "metadata": {},
   "source": [
    "![](images/clone_repo.png)"
   ]
  },
  {
   "cell_type": "code",
   "execution_count": 86,
   "metadata": {
    "vscode": {
     "languageId": "shellscript"
    }
   },
   "outputs": [
    {
     "name": "stdout",
     "output_type": "stream",
     "text": [
      "Cloning into '/Users/chopik/test_hse_base_cpp_repo'...\n",
      "remote: Enumerating objects: 222, done.\u001b[K\n",
      "remote: Counting objects: 100% (6/6), done.\u001b[K\n",
      "remote: Compressing objects: 100% (6/6), done.\u001b[K\n",
      "remote: Total 222 (delta 0), reused 5 (delta 0), pack-reused 216\u001b[K\n",
      "Receiving objects: 100% (222/222), 76.11 MiB | 8.14 MiB/s, done.\n",
      "Resolving deltas: 100% (19/19), done.\n"
     ]
    }
   ],
   "source": [
    "# git clone ssh://git@gitlab.cpp-hse.net:2224/hse-base-cxx-2024/staff-staff-Ivan-Luchsh-chopik.git\n",
    "!git clone ssh://git@gitlab.cpp-hse.net:2224/hse-base-cxx-2024/staff-staff-Ivan-Luchsh-chopik.git"
   ]
  },
  {
   "cell_type": "code",
   "execution_count": 87,
   "metadata": {
    "vscode": {
     "languageId": "shellscript"
    }
   },
   "outputs": [
    {
     "name": "stdout",
     "output_type": "stream",
     "text": [
      "total 184\n",
      " 0 drwxr-xr-x  27 chopik  LD\\Domain Users    864 Jan 14 19:00 \u001b[34m.\u001b[m\u001b[m\n",
      " 0 drwxr-x---+ 51 chopik  LD\\Domain Users   1632 Jan 14 19:00 \u001b[34m..\u001b[m\u001b[m\n",
      " 8 -rw-r--r--   1 chopik  LD\\Domain Users    284 Jan 14 19:00 .clang-format\n",
      " 8 -rw-r--r--   1 chopik  LD\\Domain Users   1922 Jan 14 19:00 .clang-tidy\n",
      " 0 drwxr-xr-x  12 chopik  LD\\Domain Users    384 Jan 14 19:00 \u001b[34m.git\u001b[m\u001b[m\n",
      " 8 -rw-r--r--   1 chopik  LD\\Domain Users    242 Jan 14 19:00 .gitignore\n",
      " 8 -rw-r--r--   1 chopik  LD\\Domain Users    165 Jan 14 19:00 .gitlab-ci.yml\n",
      " 8 -rw-r--r--   1 chopik  LD\\Domain Users    153 Jan 14 19:00 .gitmodules\n",
      " 8 -rw-r--r--   1 chopik  LD\\Domain Users    713 Jan 14 19:00 .testenv-beta-ci.yml\n",
      " 8 -rw-r--r--   1 chopik  LD\\Domain Users    760 Jan 14 19:00 .testenv-ci.yml\n",
      " 8 -rw-r--r--   1 chopik  LD\\Domain Users   1123 Jan 14 19:00 CMakeLists.txt\n",
      " 8 -rw-r--r--   1 chopik  LD\\Domain Users     15 Jan 14 19:00 LECTURES.md\n",
      " 8 -rw-r--r--   1 chopik  LD\\Domain Users    396 Jan 14 19:00 README.md\n",
      " 8 -rw-r--r--   1 chopik  LD\\Domain Users   2801 Jan 14 19:00 SCORE.md\n",
      "16 -rw-r--r--   1 chopik  LD\\Domain Users   6036 Jan 14 19:00 SETUP.md\n",
      "32 -rw-r--r--   1 chopik  LD\\Domain Users  15757 Jan 14 19:00 STYLEGUIDE.md\n",
      " 8 -rw-r--r--   1 chopik  LD\\Domain Users    797 Jan 14 19:00 build.docker\n",
      " 0 drwxr-xr-x   5 chopik  LD\\Domain Users    160 Jan 14 19:00 \u001b[34mcmake\u001b[m\u001b[m\n",
      " 0 drwxr-xr-x   3 chopik  LD\\Domain Users     96 Jan 14 19:00 \u001b[34mcontrib\u001b[m\u001b[m\n",
      " 0 drwxr-xr-x   4 chopik  LD\\Domain Users    128 Jan 14 19:00 \u001b[34mdeadlines\u001b[m\u001b[m\n",
      " 0 drwxr-xr-x   2 chopik  LD\\Domain Users     64 Jan 14 19:00 \u001b[34mgrader\u001b[m\u001b[m\n",
      " 0 drwxr-xr-x   3 chopik  LD\\Domain Users     96 Jan 14 19:00 \u001b[34mlectures\u001b[m\u001b[m\n",
      " 0 drwxr-xr-x   2 chopik  LD\\Domain Users     64 Jan 14 19:00 \u001b[34mprivate\u001b[m\u001b[m\n",
      "24 -rwxr-xr-x   1 chopik  LD\\Domain Users   9902 Jan 14 19:00 \u001b[31mrun-clang-format.py\u001b[m\u001b[m\n",
      " 8 -rwxr-xr-x   1 chopik  LD\\Domain Users    545 Jan 14 19:00 \u001b[31mrun_linter.sh\u001b[m\u001b[m\n",
      " 0 drwxr-xr-x  22 chopik  LD\\Domain Users    704 Jan 14 19:00 \u001b[34mtasks\u001b[m\u001b[m\n",
      " 8 -rw-r--r--   1 chopik  LD\\Domain Users    212 Jan 14 19:00 testenv.docker\n"
     ]
    }
   ],
   "source": [
    "!ls -lsa ~/test_hse_base_cpp_repo"
   ]
  },
  {
   "cell_type": "code",
   "execution_count": 88,
   "metadata": {
    "vscode": {
     "languageId": "shellscript"
    }
   },
   "outputs": [],
   "source": [
    "# внутри дирректории репозитория\n",
    "!touch trash.tmp"
   ]
  },
  {
   "cell_type": "markdown",
   "metadata": {},
   "source": [
    "`git status` - показывает состояние файлов в репозитории"
   ]
  },
  {
   "cell_type": "code",
   "execution_count": 89,
   "metadata": {
    "vscode": {
     "languageId": "shellscript"
    }
   },
   "outputs": [
    {
     "name": "stdout",
     "output_type": "stream",
     "text": [
      "On branch main\n",
      "Your branch is up to date with 'origin/main'.\n",
      "\n",
      "Changes not staged for commit:\n",
      "  (use \"git add <file>...\" to update what will be committed)\n",
      "  (use \"git restore <file>...\" to discard changes in working directory)\n",
      "\t\u001b[31mmodified:   git.ipynb\u001b[m\n",
      "\n",
      "Untracked files:\n",
      "  (use \"git add <file>...\" to include in what will be committed)\n",
      "\t\u001b[31mtrash.tmp\u001b[m\n",
      "\n",
      "no changes added to commit (use \"git add\" and/or \"git commit -a\")\n"
     ]
    }
   ],
   "source": [
    "!git status"
   ]
  },
  {
   "cell_type": "markdown",
   "metadata": {},
   "source": [
    "![](images/git_states_add.jpg)"
   ]
  },
  {
   "cell_type": "code",
   "execution_count": 90,
   "metadata": {
    "vscode": {
     "languageId": "shellscript"
    }
   },
   "outputs": [],
   "source": [
    "!git add trash.tmp"
   ]
  },
  {
   "cell_type": "code",
   "execution_count": 91,
   "metadata": {
    "vscode": {
     "languageId": "shellscript"
    }
   },
   "outputs": [
    {
     "name": "stdout",
     "output_type": "stream",
     "text": [
      "On branch main\n",
      "Your branch is up to date with 'origin/main'.\n",
      "\n",
      "Changes to be committed:\n",
      "  (use \"git restore --staged <file>...\" to unstage)\n",
      "\t\u001b[32mnew file:   trash.tmp\u001b[m\n",
      "\n",
      "Changes not staged for commit:\n",
      "  (use \"git add <file>...\" to update what will be committed)\n",
      "  (use \"git restore <file>...\" to discard changes in working directory)\n",
      "\t\u001b[31mmodified:   git.ipynb\u001b[m\n",
      "\n"
     ]
    }
   ],
   "source": [
    "!git status"
   ]
  },
  {
   "cell_type": "markdown",
   "metadata": {},
   "source": [
    "`git commit` - создание коммита"
   ]
  },
  {
   "cell_type": "markdown",
   "metadata": {},
   "source": [
    "![](images/git_states_commit.jpg)"
   ]
  },
  {
   "cell_type": "code",
   "execution_count": 92,
   "metadata": {
    "vscode": {
     "languageId": "shellscript"
    }
   },
   "outputs": [
    {
     "name": "stdout",
     "output_type": "stream",
     "text": [
      "[main d28907d] add some trash\n",
      " 1 file changed, 0 insertions(+), 0 deletions(-)\n",
      " create mode 100644 sem01-02/presentations/trash.tmp\n"
     ]
    }
   ],
   "source": [
    "!git commit -m \"add some trash\""
   ]
  },
  {
   "cell_type": "code",
   "execution_count": 93,
   "metadata": {
    "vscode": {
     "languageId": "shellscript"
    }
   },
   "outputs": [],
   "source": [
    "!echo \"trash\" > trash.tmp"
   ]
  },
  {
   "cell_type": "markdown",
   "metadata": {},
   "source": [
    "![](images/git_states_edit.jpg)"
   ]
  },
  {
   "cell_type": "code",
   "execution_count": 94,
   "metadata": {
    "vscode": {
     "languageId": "shellscript"
    }
   },
   "outputs": [
    {
     "name": "stdout",
     "output_type": "stream",
     "text": [
      "On branch main\n",
      "Your branch is ahead of 'origin/main' by 1 commit.\n",
      "  (use \"git push\" to publish your local commits)\n",
      "\n",
      "Changes not staged for commit:\n",
      "  (use \"git add <file>...\" to update what will be committed)\n",
      "  (use \"git restore <file>...\" to discard changes in working directory)\n",
      "\t\u001b[31mmodified:   git.ipynb\u001b[m\n",
      "\t\u001b[31mmodified:   trash.tmp\u001b[m\n",
      "\n",
      "no changes added to commit (use \"git add\" and/or \"git commit -a\")\n"
     ]
    }
   ],
   "source": [
    "!git status"
   ]
  },
  {
   "cell_type": "markdown",
   "metadata": {},
   "source": [
    "`git diff` - показывает изменения между коммитами, между коммитом и unstaged файлами"
   ]
  },
  {
   "cell_type": "code",
   "execution_count": 95,
   "metadata": {
    "vscode": {
     "languageId": "shellscript"
    }
   },
   "outputs": [
    {
     "name": "stdout",
     "output_type": "stream",
     "text": [
      "\u001b[1mdiff --git a/sem01-02/presentations/git.ipynb b/sem01-02/presentations/git.ipynb\u001b[m\n",
      "\u001b[1mindex 6aa505c..c15b69a 100644\u001b[m\n",
      "\u001b[1m--- a/sem01-02/presentations/git.ipynb\u001b[m\n",
      "\u001b[1m+++ b/sem01-02/presentations/git.ipynb\u001b[m\n",
      "\u001b[36m@@ -72,7 +72,7 @@\u001b[m\n",
      "   },\u001b[m\n",
      "   {\u001b[m\n",
      "    \"cell_type\": \"code\",\u001b[m\n",
      "\u001b[31m-   \"execution_count\": 2,\u001b[m\n",
      "\u001b[32m+\u001b[m\u001b[32m   \"execution_count\": 81,\u001b[m\n",
      "    \"metadata\": {\u001b[m\n",
      "     \"vscode\": {\u001b[m\n",
      "      \"languageId\": \"shellscript\"\u001b[m\n",
      "\u001b[36m@@ -97,7 +97,7 @@\u001b[m\n",
      "   },\u001b[m\n",
      "   {\u001b[m\n",
      "    \"cell_type\": \"code\",\u001b[m\n",
      "\u001b[31m-   \"execution_count\": 4,\u001b[m\n",
      "\u001b[32m+\u001b[m\u001b[32m   \"execution_count\": 82,\u001b[m\n",
      "    \"metadata\": {\u001b[m\n",
      "     \"vscode\": {\u001b[m\n",
      "      \"languageId\": \"shellscript\"\u001b[m\n",
      "\u001b[36m@@ -108,7 +108,6 @@\u001b[m\n",
      "      \"name\": \"stdout\",\u001b[m\n",
      "      \"output_type\": \"stream\",\u001b[m\n",
      "      \"text\": [\u001b[m\n",
      "\u001b[31m-      \"mkdir: /Users/chopik/test_repo: File exists\\n\",\u001b[m\n",
      "       \"Initialized empty Git repository in /Users/chopik/test_repo/.git/\\n\"\u001b[m\n",
      "      ]\u001b[m\n",
      "     }\u001b[m\n",
      "\u001b[36m@@ -127,7 +126,7 @@\u001b[m\n",
      "   },\u001b[m\n",
      "   {\u001b[m\n",
      "    \"cell_type\": \"code\",\u001b[m\n",
      "\u001b[31m-   \"execution_count\": 5,\u001b[m\n",
      "\u001b[32m+\u001b[m\u001b[32m   \"execution_count\": 83,\u001b[m\n",
      "    \"metadata\": {\u001b[m\n",
      "     \"vscode\": {\u001b[m\n",
      "      \"languageId\": \"shellscript\"\u001b[m\n",
      "\u001b[36m@@ -139,9 +138,9 @@\u001b[m\n",
      "      \"output_type\": \"stream\",\u001b[m\n",
      "      \"text\": [\u001b[m\n",
      "       \"total 0\\n\",\u001b[m\n",
      "\u001b[31m-      \"0 drwxr-xr-x   3 chopik  LD\\\\Domain Users    96 Jan 14 17:10 \\u001b[34m.\\u001b[m\\u001b[m\\n\",\u001b[m\n",
      "\u001b[31m-      \"0 drwxr-x---+ 50 chopik  LD\\\\Domain Users  1600 Jan 14 17:10 \\u001b[34m..\\u001b[m\\u001b[m\\n\",\u001b[m\n",
      "\u001b[31m-      \"0 drwxr-xr-x   9 chopik  LD\\\\Domain Users   288 Jan 14 17:10 \\u001b[34m.git\\u001b[m\\u001b[m\\n\"\u001b[m\n",
      "\u001b[32m+\u001b[m\u001b[32m      \"0 drwxr-xr-x   3 chopik  LD\\\\Domain Users    96 Jan 14 19:00 \\u001b[34m.\\u001b[m\\u001b[m\\n\",\u001b[m\n",
      "\u001b[32m+\u001b[m\u001b[32m      \"0 drwxr-x---+ 50 chopik  LD\\\\Domain Users  1600 Jan 14 19:00 \\u001b[34m..\\u001b[m\\u001b[m\\n\",\u001b[m\n",
      "\u001b[32m+\u001b[m\u001b[32m      \"0 drwxr-xr-x   9 chopik  LD\\\\Domain Users   288 Jan 14 19:00 \\u001b[34m.git\\u001b[m\\u001b[m\\n\"\u001b[m\n",
      "      ]\u001b[m\n",
      "     }\u001b[m\n",
      "    ],\u001b[m\n",
      "\u001b[36m@@ -151,7 +150,7 @@\u001b[m\n",
      "   },\u001b[m\n",
      "   {\u001b[m\n",
      "    \"cell_type\": \"code\",\u001b[m\n",
      "\u001b[31m-   \"execution_count\": 6,\u001b[m\n",
      "\u001b[32m+\u001b[m\u001b[32m   \"execution_count\": 84,\u001b[m\n",
      "    \"metadata\": {\u001b[m\n",
      "     \"vscode\": {\u001b[m\n",
      "      \"languageId\": \"shellscript\"\u001b[m\n",
      "\u001b[36m@@ -163,15 +162,15 @@\u001b[m\n",
      "      \"output_type\": \"stream\",\u001b[m\n",
      "      \"text\": [\u001b[m\n",
      "       \"total 24\\n\",\u001b[m\n",
      "\u001b[31m-      \"0 drwxr-xr-x   9 chopik  LD\\\\Domain Users  288 Jan 14 17:10 \\u001b[34m.\\u001b[m\\u001b[m\\n\",\u001b[m\n",
      "\u001b[31m-      \"0 drwxr-xr-x   3 chopik  LD\\\\Domain Users   96 Jan 14 17:10 \\u001b[34m..\\u001b[m\\u001b[m\\n\",\u001b[m\n",
      "\u001b[31m-      \"8 -rw-r--r--   1 chopik  LD\\\\Domain Users   21 Jan 14 17:10 HEAD\\n\",\u001b[m\n",
      "\u001b[31m-      \"8 -rw-r--r--   1 chopik  LD\\\\Domain Users  137 Jan 14 17:10 config\\n\",\u001b[m\n",
      "\u001b[31m-      \"8 -rw-r--r--   1 chopik  LD\\\\Domain Users   73 Jan 14 17:10 description\\n\",\u001b[m\n",
      "\u001b[31m-      \"0 drwxr-xr-x  15 chopik  LD\\\\Domain Users  480 Jan 14 17:10 \\u001b[34mhooks\\u001b[m\\u001b[m\\n\",\u001b[m\n",
      "\u001b[31m-      \"0 drwxr-xr-x   3 chopik  LD\\\\Domain Users   96 Jan 14 17:10 \\u001b[34minfo\\u001b[m\\u001b[m\\n\",\u001b[m\n",
      "\u001b[31m-      \"0 drwxr-xr-x   4 chopik  LD\\\\Domain Users  128 Jan 14 17:10 \\u001b[34mobjects\\u001b[m\\u001b[m\\n\",\u001b[m\n",
      "\u001b[31m-      \"0 drwxr-xr-x   4 chopik  LD\\\\Domain Users  128 Jan 14 17:10 \\u001b[34mrefs\\u001b[m\\u001b[m\\n\"\u001b[m\n",
      "\u001b[32m+\u001b[m\u001b[32m      \"0 drwxr-xr-x   9 chopik  LD\\\\Domain Users  288 Jan 14 19:00 \\u001b[34m.\\u001b[m\\u001b[m\\n\",\u001b[m\n",
      "\u001b[32m+\u001b[m\u001b[32m      \"0 drwxr-xr-x   3 chopik  LD\\\\Domain Users   96 Jan 14 19:00 \\u001b[34m..\\u001b[m\\u001b[m\\n\",\u001b[m\n",
      "\u001b[32m+\u001b[m\u001b[32m      \"8 -rw-r--r--   1 chopik  LD\\\\Domain Users   21 Jan 14 19:00 HEAD\\n\",\u001b[m\n",
      "\u001b[32m+\u001b[m\u001b[32m      \"8 -rw-r--r--   1 chopik  LD\\\\Domain Users  137 Jan 14 19:00 config\\n\",\u001b[m\n",
      "\u001b[32m+\u001b[m\u001b[32m      \"8 -rw-r--r--   1 chopik  LD\\\\Domain Users   73 Jan 14 19:00 description\\n\",\u001b[m\n",
      "\u001b[32m+\u001b[m\u001b[32m      \"0 drwxr-xr-x  15 chopik  LD\\\\Domain Users  480 Jan 14 19:00 \\u001b[34mhooks\\u001b[m\\u001b[m\\n\",\u001b[m\n",
      "\u001b[32m+\u001b[m\u001b[32m      \"0 drwxr-xr-x   3 chopik  LD\\\\Domain Users   96 Jan 14 19:00 \\u001b[34minfo\\u001b[m\\u001b[m\\n\",\u001b[m\n",
      "\u001b[32m+\u001b[m\u001b[32m      \"0 drwxr-xr-x   4 chopik  LD\\\\Domain Users  128 Jan 14 19:00 \\u001b[34mobjects\\u001b[m\\u001b[m\\n\",\u001b[m\n",
      "\u001b[32m+\u001b[m\u001b[32m      \"0 drwxr-xr-x   4 chopik  LD\\\\Domain Users  128 Jan 14 19:00 \\u001b[34mrefs\\u001b[m\\u001b[m\\n\"\u001b[m\n",
      "      ]\u001b[m\n",
      "     }\u001b[m\n",
      "    ],\u001b[m\n",
      "\u001b[36m@@ -208,7 +207,7 @@\u001b[m\n",
      "   },\u001b[m\n",
      "   {\u001b[m\n",
      "    \"cell_type\": \"code\",\u001b[m\n",
      "\u001b[31m-   \"execution_count\": 7,\u001b[m\n",
      "\u001b[32m+\u001b[m\u001b[32m   \"execution_count\": 85,\u001b[m\n",
      "    \"metadata\": {\u001b[m\n",
      "     \"vscode\": {\u001b[m\n",
      "      \"languageId\": \"shellscript\"\u001b[m\n",
      "\u001b[36m@@ -252,7 +251,7 @@\u001b[m\n",
      "   },\u001b[m\n",
      "   {\u001b[m\n",
      "    \"cell_type\": \"code\",\u001b[m\n",
      "\u001b[31m-   \"execution_count\": 1,\u001b[m\n",
      "\u001b[32m+\u001b[m\u001b[32m   \"execution_count\": 86,\u001b[m\n",
      "    \"metadata\": {\u001b[m\n",
      "     \"vscode\": {\u001b[m\n",
      "      \"languageId\": \"shellscript\"\u001b[m\n",
      "\u001b[36m@@ -268,7 +267,7 @@\u001b[m\n",
      "       \"remote: Counting objects: 100% (6/6), done.\\u001b[K\\n\",\u001b[m\n",
      "       \"remote: Compressing objects: 100% (6/6), done.\\u001b[K\\n\",\u001b[m\n",
      "       \"remote: Total 222 (delta 0), reused 5 (delta 0), pack-reused 216\\u001b[K\\n\",\u001b[m\n",
      "\u001b[31m-      \"Receiving objects: 100% (222/222), 76.11 MiB | 6.47 MiB/s, done.\\n\",\u001b[m\n",
      "\u001b[32m+\u001b[m\u001b[32m      \"Receiving objects: 100% (222/222), 76.11 MiB | 8.14 MiB/s, done.\\n\",\u001b[m\n",
      "       \"Resolving deltas: 100% (19/19), done.\\n\"\u001b[m\n",
      "      ]\u001b[m\n",
      "     }\u001b[m\n",
      "\u001b[36m@@ -280,7 +279,7 @@\u001b[m\n",
      "   },\u001b[m\n",
      "   {\u001b[m\n",
      "    \"cell_type\": \"code\",\u001b[m\n",
      "\u001b[31m-   \"execution_count\": 2,\u001b[m\n",
      "\u001b[32m+\u001b[m\u001b[32m   \"execution_count\": 87,\u001b[m\n",
      "    \"metadata\": {\u001b[m\n",
      "     \"vscode\": {\u001b[m\n",
      "      \"languageId\": \"shellscript\"\u001b[m\n",
      "\u001b[36m@@ -292,33 +291,33 @@\u001b[m\n",
      "      \"output_type\": \"stream\",\u001b[m\n",
      "      \"text\": [\u001b[m\n",
      "       \"total 184\\n\",\u001b[m\n",
      "\u001b[31m-      \" 0 drwxr-xr-x  27 chopik  LD\\\\Domain Users    864 Jan 14 17:28 \\u001b[34m.\\u001b[m\\u001b[m\\n\",\u001b[m\n",
      "\u001b[31m-      \" 0 drwxr-x---+ 51 chopik  LD\\\\Domain Users   1632 Jan 14 17:28 \\u001b[34m..\\u001b[m\\u001b[m\\n\",\u001b[m\n",
      "\u001b[31m-      \" 8 -rw-r--r--   1 chopik  LD\\\\Domain Users    284 Jan 14 17:28 .clang-format\\n\",\u001b[m\n",
      "\u001b[31m-      \" 8 -rw-r--r--   1 chopik  LD\\\\Domain Users   1922 Jan 14 17:28 .clang-tidy\\n\",\u001b[m\n",
      "\u001b[31m-      \" 0 drwxr-xr-x  12 chopik  LD\\\\Domain Users    384 Jan 14 17:28 \\u001b[34m.git\\u001b[m\\u001b[m\\n\",\u001b[m\n",
      "\u001b[31m-      \" 8 -rw-r--r--   1 chopik  LD\\\\Domain Users    242 Jan 14 17:28 .gitignore\\n\",\u001b[m\n",
      "\u001b[31m-      \" 8 -rw-r--r--   1 chopik  LD\\\\Domain Users    165 Jan 14 17:28 .gitlab-ci.yml\\n\",\u001b[m\n",
      "\u001b[31m-      \" 8 -rw-r--r--   1 chopik  LD\\\\Domain Users    153 Jan 14 17:28 .gitmodules\\n\",\u001b[m\n",
      "\u001b[31m-      \" 8 -rw-r--r--   1 chopik  LD\\\\Domain Users    713 Jan 14 17:28 .testenv-beta-ci.yml\\n\",\u001b[m\n",
      "\u001b[31m-      \" 8 -rw-r--r--   1 chopik  LD\\\\Domain Users    760 Jan 14 17:28 .testenv-ci.yml\\n\",\u001b[m\n",
      "\u001b[31m-      \" 8 -rw-r--r--   1 chopik  LD\\\\Domain Users   1123 Jan 14 17:28 CMakeLists.txt\\n\",\u001b[m\n",
      "\u001b[31m-      \" 8 -rw-r--r--   1 chopik  LD\\\\Domain Users     15 Jan 14 17:28 LECTURES.md\\n\",\u001b[m\n",
      "\u001b[31m-      \" 8 -rw-r--r--   1 chopik  LD\\\\Domain Users    396 Jan 14 17:28 README.md\\n\",\u001b[m\n",
      "\u001b[31m-      \" 8 -rw-r--r--   1 chopik  LD\\\\Domain Users   2801 Jan 14 17:28 SCORE.md\\n\",\u001b[m\n",
      "\u001b[31m-      \"16 -rw-r--r--   1 chopik  LD\\\\Domain Users   6036 Jan 14 17:28 SETUP.md\\n\",\u001b[m\n",
      "\u001b[31m-      \"32 -rw-r--r--   1 chopik  LD\\\\Domain Users  15757 Jan 14 17:28 STYLEGUIDE.md\\n\",\u001b[m\n",
      "\u001b[31m-      \" 8 -rw-r--r--   1 chopik  LD\\\\Domain Users    797 Jan 14 17:28 build.docker\\n\",\u001b[m\n",
      "\u001b[31m-      \" 0 drwxr-xr-x   5 chopik  LD\\\\Domain Users    160 Jan 14 17:28 \\u001b[34mcmake\\u001b[m\\u001b[m\\n\",\u001b[m\n",
      "\u001b[31m-      \" 0 drwxr-xr-x   3 chopik  LD\\\\Domain Users     96 Jan 14 17:28 \\u001b[34mcontrib\\u001b[m\\u001b[m\\n\",\u001b[m\n",
      "\u001b[31m-      \" 0 drwxr-xr-x   4 chopik  LD\\\\Domain Users    128 Jan 14 17:28 \\u001b[34mdeadlines\\u001b[m\\u001b[m\\n\",\u001b[m\n",
      "\u001b[31m-      \" 0 drwxr-xr-x   2 chopik  LD\\\\Domain Users     64 Jan 14 17:28 \\u001b[34mgrader\\u001b[m\\u001b[m\\n\",\u001b[m\n",
      "\u001b[31m-      \" 0 drwxr-xr-x   3 chopik  LD\\\\Domain Users     96 Jan 14 17:28 \\u001b[34mlectures\\u001b[m\\u001b[m\\n\",\u001b[m\n",
      "\u001b[31m-      \" 0 drwxr-xr-x   2 chopik  LD\\\\Domain Users     64 Jan 14 17:28 \\u001b[34mprivate\\u001b[m\\u001b[m\\n\",\u001b[m\n",
      "\u001b[31m-      \"24 -rwxr-xr-x   1 chopik  LD\\\\Domain Users   9902 Jan 14 17:28 \\u001b[31mrun-clang-format.py\\u001b[m\\u001b[m\\n\",\u001b[m\n",
      "\u001b[31m-      \" 8 -rwxr-xr-x   1 chopik  LD\\\\Domain Users    545 Jan 14 17:28 \\u001b[31mrun_linter.sh\\u001b[m\\u001b[m\\n\",\u001b[m\n",
      "\u001b[31m-      \" 0 drwxr-xr-x  22 chopik  LD\\\\Domain Users    704 Jan 14 17:28 \\u001b[34mtasks\\u001b[m\\u001b[m\\n\",\u001b[m\n",
      "\u001b[31m-      \" 8 -rw-r--r--   1 chopik  LD\\\\Domain Users    212 Jan 14 17:28 testenv.docker\\n\"\u001b[m\n",
      "\u001b[32m+\u001b[m\u001b[32m      \" 0 drwxr-xr-x  27 chopik  LD\\\\Domain Users    864 Jan 14 19:00 \\u001b[34m.\\u001b[m\\u001b[m\\n\",\u001b[m\n",
      "\u001b[32m+\u001b[m\u001b[32m      \" 0 drwxr-x---+ 51 chopik  LD\\\\Domain Users   1632 Jan 14 19:00 \\u001b[34m..\\u001b[m\\u001b[m\\n\",\u001b[m\n",
      "\u001b[32m+\u001b[m\u001b[32m      \" 8 -rw-r--r--   1 chopik  LD\\\\Domain Users    284 Jan 14 19:00 .clang-format\\n\",\u001b[m\n",
      "\u001b[32m+\u001b[m\u001b[32m      \" 8 -rw-r--r--   1 chopik  LD\\\\Domain Users   1922 Jan 14 19:00 .clang-tidy\\n\",\u001b[m\n",
      "\u001b[32m+\u001b[m\u001b[32m      \" 0 drwxr-xr-x  12 chopik  LD\\\\Domain Users    384 Jan 14 19:00 \\u001b[34m.git\\u001b[m\\u001b[m\\n\",\u001b[m\n",
      "\u001b[32m+\u001b[m\u001b[32m      \" 8 -rw-r--r--   1 chopik  LD\\\\Domain Users    242 Jan 14 19:00 .gitignore\\n\",\u001b[m\n",
      "\u001b[32m+\u001b[m\u001b[32m      \" 8 -rw-r--r--   1 chopik  LD\\\\Domain Users    165 Jan 14 19:00 .gitlab-ci.yml\\n\",\u001b[m\n",
      "\u001b[32m+\u001b[m\u001b[32m      \" 8 -rw-r--r--   1 chopik  LD\\\\Domain Users    153 Jan 14 19:00 .gitmodules\\n\",\u001b[m\n",
      "\u001b[32m+\u001b[m\u001b[32m      \" 8 -rw-r--r--   1 chopik  LD\\\\Domain Users    713 Jan 14 19:00 .testenv-beta-ci.yml\\n\",\u001b[m\n",
      "\u001b[32m+\u001b[m\u001b[32m      \" 8 -rw-r--r--   1 chopik  LD\\\\Domain Users    760 Jan 14 19:00 .testenv-ci.yml\\n\",\u001b[m\n",
      "\u001b[32m+\u001b[m\u001b[32m      \" 8 -rw-r--r--   1 chopik  LD\\\\Domain Users   1123 Jan 14 19:00 CMakeLists.txt\\n\",\u001b[m\n",
      "\u001b[32m+\u001b[m\u001b[32m      \" 8 -rw-r--r--   1 chopik  LD\\\\Domain Users     15 Jan 14 19:00 LECTURES.md\\n\",\u001b[m\n",
      "\u001b[32m+\u001b[m\u001b[32m      \" 8 -rw-r--r--   1 chopik  LD\\\\Domain Users    396 Jan 14 19:00 README.md\\n\",\u001b[m\n",
      "\u001b[32m+\u001b[m\u001b[32m      \" 8 -rw-r--r--   1 chopik  LD\\\\Domain Users   2801 Jan 14 19:00 SCORE.md\\n\",\u001b[m\n",
      "\u001b[32m+\u001b[m\u001b[32m      \"16 -rw-r--r--   1 chopik  LD\\\\Domain Users   6036 Jan 14 19:00 SETUP.md\\n\",\u001b[m\n",
      "\u001b[32m+\u001b[m\u001b[32m      \"32 -rw-r--r--   1 chopik  LD\\\\Domain Users  15757 Jan 14 19:00 STYLEGUIDE.md\\n\",\u001b[m\n",
      "\u001b[32m+\u001b[m\u001b[32m      \" 8 -rw-r--r--   1 chopik  LD\\\\Domain Users    797 Jan 14 19:00 build.docker\\n\",\u001b[m\n",
      "\u001b[32m+\u001b[m\u001b[32m      \" 0 drwxr-xr-x   5 chopik  LD\\\\Domain Users    160 Jan 14 19:00 \\u001b[34mcmake\\u001b[m\\u001b[m\\n\",\u001b[m\n",
      "\u001b[32m+\u001b[m\u001b[32m      \" 0 drwxr-xr-x   3 chopik  LD\\\\Domain Users     96 Jan 14 19:00 \\u001b[34mcontrib\\u001b[m\\u001b[m\\n\",\u001b[m\n",
      "\u001b[32m+\u001b[m\u001b[32m      \" 0 drwxr-xr-x   4 chopik  LD\\\\Domain Users    128 Jan 14 19:00 \\u001b[34mdeadlines\\u001b[m\\u001b[m\\n\",\u001b[m\n",
      "\u001b[32m+\u001b[m\u001b[32m      \" 0 drwxr-xr-x   2 chopik  LD\\\\Domain Users     64 Jan 14 19:00 \\u001b[34mgrader\\u001b[m\\u001b[m\\n\",\u001b[m\n",
      "\u001b[32m+\u001b[m\u001b[32m      \" 0 drwxr-xr-x   3 chopik  LD\\\\Domain Users     96 Jan 14 19:00 \\u001b[34mlectures\\u001b[m\\u001b[m\\n\",\u001b[m\n",
      "\u001b[32m+\u001b[m\u001b[32m      \" 0 drwxr-xr-x   2 chopik  LD\\\\Domain Users     64 Jan 14 19:00 \\u001b[34mprivate\\u001b[m\\u001b[m\\n\",\u001b[m\n",
      "\u001b[32m+\u001b[m\u001b[32m      \"24 -rwxr-xr-x   1 chopik  LD\\\\Domain Users   9902 Jan 14 19:00 \\u001b[31mrun-clang-format.py\\u001b[m\\u001b[m\\n\",\u001b[m\n",
      "\u001b[32m+\u001b[m\u001b[32m      \" 8 -rwxr-xr-x   1 chopik  LD\\\\Domain Users    545 Jan 14 19:00 \\u001b[31mrun_linter.sh\\u001b[m\\u001b[m\\n\",\u001b[m\n",
      "\u001b[32m+\u001b[m\u001b[32m      \" 0 drwxr-xr-x  22 chopik  LD\\\\Domain Users    704 Jan 14 19:00 \\u001b[34mtasks\\u001b[m\\u001b[m\\n\",\u001b[m\n",
      "\u001b[32m+\u001b[m\u001b[32m      \" 8 -rw-r--r--   1 chopik  LD\\\\Domain Users    212 Jan 14 19:00 testenv.docker\\n\"\u001b[m\n",
      "      ]\u001b[m\n",
      "     }\u001b[m\n",
      "    ],\u001b[m\n",
      "\u001b[36m@@ -328,7 +327,7 @@\u001b[m\n",
      "   },\u001b[m\n",
      "   {\u001b[m\n",
      "    \"cell_type\": \"code\",\u001b[m\n",
      "\u001b[31m-   \"execution_count\": 3,\u001b[m\n",
      "\u001b[32m+\u001b[m\u001b[32m   \"execution_count\": 88,\u001b[m\n",
      "    \"metadata\": {\u001b[m\n",
      "     \"vscode\": {\u001b[m\n",
      "      \"languageId\": \"shellscript\"\u001b[m\n",
      "\u001b[36m@@ -349,7 +348,7 @@\u001b[m\n",
      "   },\u001b[m\n",
      "   {\u001b[m\n",
      "    \"cell_type\": \"code\",\u001b[m\n",
      "\u001b[31m-   \"execution_count\": 4,\u001b[m\n",
      "\u001b[32m+\u001b[m\u001b[32m   \"execution_count\": 89,\u001b[m\n",
      "    \"metadata\": {\u001b[m\n",
      "     \"vscode\": {\u001b[m\n",
      "      \"languageId\": \"shellscript\"\u001b[m\n",
      "\u001b[36m@@ -367,11 +366,9 @@\u001b[m\n",
      "       \"  (use \\\"git add <file>...\\\" to update what will be committed)\\n\",\u001b[m\n",
      "       \"  (use \\\"git restore <file>...\\\" to discard changes in working directory)\\n\",\u001b[m\n",
      "       \"\\t\\u001b[31mmodified:   git.ipynb\\u001b[m\\n\",\u001b[m\n",
      "\u001b[31m-      \"\\t\\u001b[31mmodified:   images/git_states.jpg\\u001b[m\\n\",\u001b[m\n",
      "       \"\\n\",\u001b[m\n",
      "       \"Untracked files:\\n\",\u001b[m\n",
      "       \"  (use \\\"git add <file>...\\\" to include in what will be committed)\\n\",\u001b[m\n",
      "\u001b[31m-      \"\\t\\u001b[31mtemplate_multiplication.cpp\\u001b[m\\n\",\u001b[m\n",
      "       \"\\t\\u001b[31mtrash.tmp\\u001b[m\\n\",\u001b[m\n",
      "       \"\\n\",\u001b[m\n",
      "       \"no changes added to commit (use \\\"git add\\\" and/or \\\"git commit -a\\\")\\n\"\u001b[m\n",
      "\u001b[36m@@ -391,7 +388,7 @@\u001b[m\n",
      "   },\u001b[m\n",
      "   {\u001b[m\n",
      "    \"cell_type\": \"code\",\u001b[m\n",
      "\u001b[31m-   \"execution_count\": 5,\u001b[m\n",
      "\u001b[32m+\u001b[m\u001b[32m   \"execution_count\": 90,\u001b[m\n",
      "    \"metadata\": {\u001b[m\n",
      "     \"vscode\": {\u001b[m\n",
      "      \"languageId\": \"shellscript\"\u001b[m\n",
      "\u001b[36m@@ -404,7 +401,7 @@\u001b[m\n",
      "   },\u001b[m\n",
      "   {\u001b[m\n",
      "    \"cell_type\": \"code\",\u001b[m\n",
      "\u001b[31m-   \"execution_count\": 7,\u001b[m\n",
      "\u001b[32m+\u001b[m\u001b[32m   \"execution_count\": 91,\u001b[m\n",
      "    \"metadata\": {\u001b[m\n",
      "     \"vscode\": {\u001b[m\n",
      "      \"languageId\": \"shellscript\"\u001b[m\n",
      "\u001b[36m@@ -418,7 +415,15 @@\u001b[m\n",
      "       \"On branch main\\n\",\u001b[m\n",
      "       \"Your branch is up to date with 'origin/main'.\\n\",\u001b[m\n",
      "       \"\\n\",\u001b[m\n",
      "\u001b[31m-      \"nothing to commit, working tree clean\\n\"\u001b[m\n",
      "\u001b[32m+\u001b[m\u001b[32m      \"Changes to be committed:\\n\",\u001b[m\n",
      "\u001b[32m+\u001b[m\u001b[32m      \"  (use \\\"git restore --staged <file>...\\\" to unstage)\\n\",\u001b[m\n",
      "\u001b[32m+\u001b[m\u001b[32m      \"\\t\\u001b[32mnew file:   trash.tmp\\u001b[m\\n\",\u001b[m\n",
      "\u001b[32m+\u001b[m\u001b[32m      \"\\n\",\u001b[m\n",
      "\u001b[32m+\u001b[m\u001b[32m      \"Changes not staged for commit:\\n\",\u001b[m\n",
      "\u001b[32m+\u001b[m\u001b[32m      \"  (use \\\"git add <file>...\\\" to update what will be committed)\\n\",\u001b[m\n",
      "\u001b[32m+\u001b[m\u001b[32m      \"  (use \\\"git restore <file>...\\\" to discard changes in working directory)\\n\",\u001b[m\n",
      "\u001b[32m+\u001b[m\u001b[32m      \"\\t\\u001b[31mmodified:   git.ipynb\\u001b[m\\n\",\u001b[m\n",
      "\u001b[32m+\u001b[m\u001b[32m      \"\\n\"\u001b[m\n",
      "      ]\u001b[m\n",
      "     }\u001b[m\n",
      "    ],\u001b[m\n",
      "\u001b[36m@@ -442,20 +447,30 @@\u001b[m\n",
      "   },\u001b[m\n",
      "   {\u001b[m\n",
      "    \"cell_type\": \"code\",\u001b[m\n",
      "\u001b[31m-   \"execution_count\": null,\u001b[m\n",
      "\u001b[32m+\u001b[m\u001b[32m   \"execution_count\": 92,\u001b[m\n",
      "    \"metadata\": {\u001b[m\n",
      "     \"vscode\": {\u001b[m\n",
      "      \"languageId\": \"shellscript\"\u001b[m\n",
      "     }\u001b[m\n",
      "    },\u001b[m\n",
      "\u001b[31m-   \"outputs\": [],\u001b[m\n",
      "\u001b[32m+\u001b[m\u001b[32m   \"outputs\": [\u001b[m\n",
      "\u001b[32m+\u001b[m\u001b[32m    {\u001b[m\n",
      "\u001b[32m+\u001b[m\u001b[32m     \"name\": \"stdout\",\u001b[m\n",
      "\u001b[32m+\u001b[m\u001b[32m     \"output_type\": \"stream\",\u001b[m\n",
      "\u001b[32m+\u001b[m\u001b[32m     \"text\": [\u001b[m\n",
      "\u001b[32m+\u001b[m\u001b[32m      \"[main d28907d] add some trash\\n\",\u001b[m\n",
      "\u001b[32m+\u001b[m\u001b[32m      \" 1 file changed, 0 insertions(+), 0 deletions(-)\\n\",\u001b[m\n",
      "\u001b[32m+\u001b[m\u001b[32m      \" create mode 100644 sem01-02/presentations/trash.tmp\\n\"\u001b[m\n",
      "\u001b[32m+\u001b[m\u001b[32m     ]\u001b[m\n",
      "\u001b[32m+\u001b[m\u001b[32m    }\u001b[m\n",
      "\u001b[32m+\u001b[m\u001b[32m   ],\u001b[m\n",
      "    \"source\": [\u001b[m\n",
      "     \"!git commit -m \\\"add some trash\\\"\"\u001b[m\n",
      "    ]\u001b[m\n",
      "   },\u001b[m\n",
      "   {\u001b[m\n",
      "    \"cell_type\": \"code\",\u001b[m\n",
      "\u001b[31m-   \"execution_count\": null,\u001b[m\n",
      "\u001b[32m+\u001b[m\u001b[32m   \"execution_count\": 93,\u001b[m\n",
      "    \"metadata\": {\u001b[m\n",
      "     \"vscode\": {\u001b[m\n",
      "      \"languageId\": \"shellscript\"\u001b[m\n",
      "\u001b[36m@@ -475,13 +490,31 @@\u001b[m\n",
      "   },\u001b[m\n",
      "   {\u001b[m\n",
      "    \"cell_type\": \"code\",\u001b[m\n",
      "\u001b[31m-   \"execution_count\": null,\u001b[m\n",
      "\u001b[32m+\u001b[m\u001b[32m   \"execution_count\": 94,\u001b[m\n",
      "    \"metadata\": {\u001b[m\n",
      "     \"vscode\": {\u001b[m\n",
      "      \"languageId\": \"shellscript\"\u001b[m\n",
      "     }\u001b[m\n",
      "    },\u001b[m\n",
      "\u001b[31m-   \"outputs\": [],\u001b[m\n",
      "\u001b[32m+\u001b[m\u001b[32m   \"outputs\": [\u001b[m\n",
      "\u001b[32m+\u001b[m\u001b[32m    {\u001b[m\n",
      "\u001b[32m+\u001b[m\u001b[32m     \"name\": \"stdout\",\u001b[m\n",
      "\u001b[32m+\u001b[m\u001b[32m     \"output_type\": \"stream\",\u001b[m\n",
      "\u001b[32m+\u001b[m\u001b[32m     \"text\": [\u001b[m\n",
      "\u001b[32m+\u001b[m\u001b[32m      \"On branch main\\n\",\u001b[m\n",
      "\u001b[32m+\u001b[m\u001b[32m      \"Your branch is ahead of 'origin/main' by 1 commit.\\n\",\u001b[m\n",
      "\u001b[32m+\u001b[m\u001b[32m      \"  (use \\\"git push\\\" to publish your local commits)\\n\",\u001b[m\n",
      "\u001b[32m+\u001b[m\u001b[32m      \"\\n\",\u001b[m\n",
      "\u001b[32m+\u001b[m\u001b[32m      \"Changes not staged for commit:\\n\",\u001b[m\n",
      "\u001b[32m+\u001b[m\u001b[32m      \"  (use \\\"git add <file>...\\\" to update what will be committed)\\n\",\u001b[m\n",
      "\u001b[32m+\u001b[m\u001b[32m      \"  (use \\\"git restore <file>...\\\" to discard changes in working directory)\\n\",\u001b[m\n",
      "\u001b[32m+\u001b[m\u001b[32m      \"\\t\\u001b[31mmodified:   git.ipynb\\u001b[m\\n\",\u001b[m\n",
      "\u001b[32m+\u001b[m\u001b[32m      \"\\t\\u001b[31mmodified:   trash.tmp\\u001b[m\\n\",\u001b[m\n",
      "\u001b[32m+\u001b[m\u001b[32m      \"\\n\",\u001b[m\n",
      "\u001b[32m+\u001b[m\u001b[32m      \"no changes added to commit (use \\\"git add\\\" and/or \\\"git commit -a\\\")\\n\"\u001b[m\n",
      "\u001b[32m+\u001b[m\u001b[32m     ]\u001b[m\n",
      "\u001b[32m+\u001b[m\u001b[32m    }\u001b[m\n",
      "\u001b[32m+\u001b[m\u001b[32m   ],\u001b[m\n",
      "    \"source\": [\u001b[m\n",
      "     \"!git status\"\u001b[m\n",
      "    ]\u001b[m\n",
      "\u001b[36m@@ -1196,6 +1229,39 @@\u001b[m\n",
      "     \"git push\"\u001b[m\n",
      "    ]\u001b[m\n",
      "   },\u001b[m\n",
      "\u001b[32m+\u001b[m\u001b[32m  {\u001b[m\n",
      "\u001b[32m+\u001b[m\u001b[32m   \"cell_type\": \"markdown\",\u001b[m\n",
      "\u001b[32m+\u001b[m\u001b[32m   \"metadata\": {},\u001b[m\n",
      "\u001b[32m+\u001b[m\u001b[32m   \"source\": [\u001b[m\n",
      "\u001b[32m+\u001b[m\u001b[32m    \"`git remote` - показывается локальные ветки\"\u001b[m\n",
      "\u001b[32m+\u001b[m\u001b[32m   ]\u001b[m\n",
      "\u001b[32m+\u001b[m\u001b[32m  },\u001b[m\n",
      "\u001b[32m+\u001b[m\u001b[32m  {\u001b[m\n",
      "\u001b[32m+\u001b[m\u001b[32m   \"cell_type\": \"code\",\u001b[m\n",
      "\u001b[32m+\u001b[m\u001b[32m   \"execution_count\": null,\u001b[m\n",
      "\u001b[32m+\u001b[m\u001b[32m   \"metadata\": {\u001b[m\n",
      "\u001b[32m+\u001b[m\u001b[32m    \"vscode\": {\u001b[m\n",
      "\u001b[32m+\u001b[m\u001b[32m     \"languageId\": \"shellscript\"\u001b[m\n",
      "\u001b[32m+\u001b[m\u001b[32m    }\u001b[m\n",
      "\u001b[32m+\u001b[m\u001b[32m   },\u001b[m\n",
      "\u001b[32m+\u001b[m\u001b[32m   \"outputs\": [],\u001b[m\n",
      "\u001b[32m+\u001b[m\u001b[32m   \"source\": [\u001b[m\n",
      "\u001b[32m+\u001b[m\u001b[32m    \"!git remote\"\u001b[m\n",
      "\u001b[32m+\u001b[m\u001b[32m   ]\u001b[m\n",
      "\u001b[32m+\u001b[m\u001b[32m  },\u001b[m\n",
      "\u001b[32m+\u001b[m\u001b[32m  {\u001b[m\n",
      "\u001b[32m+\u001b[m\u001b[32m   \"cell_type\": \"code\",\u001b[m\n",
      "\u001b[32m+\u001b[m\u001b[32m   \"execution_count\": null,\u001b[m\n",
      "\u001b[32m+\u001b[m\u001b[32m   \"metadata\": {\u001b[m\n",
      "\u001b[32m+\u001b[m\u001b[32m    \"vscode\": {\u001b[m\n",
      "\u001b[32m+\u001b[m\u001b[32m     \"languageId\": \"shellscript\"\u001b[m\n",
      "\u001b[32m+\u001b[m\u001b[32m    }\u001b[m\n",
      "\u001b[32m+\u001b[m\u001b[32m   },\u001b[m\n",
      "\u001b[32m+\u001b[m\u001b[32m   \"outputs\": [],\u001b[m\n",
      "\u001b[32m+\u001b[m\u001b[32m   \"source\": [\u001b[m\n",
      "\u001b[32m+\u001b[m\u001b[32m    \"!git remote -v\"\u001b[m\n",
      "\u001b[32m+\u001b[m\u001b[32m   ]\u001b[m\n",
      "\u001b[32m+\u001b[m\u001b[32m  },\u001b[m\n",
      "   {\u001b[m\n",
      "    \"cell_type\": \"code\",\u001b[m\n",
      "    \"execution_count\": null,\u001b[m\n",
      "\u001b[1mdiff --git a/sem01-02/presentations/trash.tmp b/sem01-02/presentations/trash.tmp\u001b[m\n",
      "\u001b[1mindex e69de29..fad67c0 100644\u001b[m\n",
      "\u001b[1m--- a/sem01-02/presentations/trash.tmp\u001b[m\n",
      "\u001b[1m+++ b/sem01-02/presentations/trash.tmp\u001b[m\n",
      "\u001b[36m@@ -0,0 +1 @@\u001b[m\n",
      "\u001b[32m+\u001b[m\u001b[32mtrash\u001b[m\n"
     ]
    }
   ],
   "source": [
    "!git diff"
   ]
  },
  {
   "cell_type": "code",
   "execution_count": 96,
   "metadata": {
    "vscode": {
     "languageId": "shellscript"
    }
   },
   "outputs": [
    {
     "name": "stdout",
     "output_type": "stream",
     "text": [
      "[main 20b4e42] edit trash\n",
      " 2 files changed, 432 insertions(+), 374 deletions(-)\n"
     ]
    }
   ],
   "source": [
    "# git add trash.tmp\n",
    "# git commit -m \"edit trash\"\n",
    "!git commit -a -m \"edit trash\""
   ]
  },
  {
   "cell_type": "markdown",
   "metadata": {},
   "source": [
    "`git rm` - удаляет файл из индекса и из файловой системы"
   ]
  },
  {
   "cell_type": "markdown",
   "metadata": {},
   "source": [
    "![](images/git_states_rm.jpg)"
   ]
  },
  {
   "cell_type": "code",
   "execution_count": 97,
   "metadata": {
    "vscode": {
     "languageId": "shellscript"
    }
   },
   "outputs": [
    {
     "name": "stdout",
     "output_type": "stream",
     "text": [
      "rm 'sem01-02/presentations/trash.tmp'\n"
     ]
    }
   ],
   "source": [
    "!git rm trash.tmp"
   ]
  },
  {
   "cell_type": "markdown",
   "metadata": {},
   "source": [
    "`git log` - список коммитов"
   ]
  },
  {
   "cell_type": "code",
   "execution_count": 98,
   "metadata": {
    "vscode": {
     "languageId": "shellscript"
    }
   },
   "outputs": [
    {
     "name": "stdout",
     "output_type": "stream",
     "text": [
      "\u001b[33mcommit 20b4e42322c65f731b18a76d6e040c3b36e2e155\u001b[m\u001b[33m (\u001b[m\u001b[1;36mHEAD -> \u001b[m\u001b[1;32mmain\u001b[m\u001b[33m)\u001b[m\n",
      "Author: Ch0p1k3 <ch00p.228@gmail.com>\n",
      "Date:   Sun Jan 14 19:00:52 2024 +0300\n",
      "\n",
      "    edit trash\n",
      "\n",
      "\u001b[33mcommit d28907dddfe3f2ae0b0b6a6384fd4ce84a236380\u001b[m\n",
      "Author: Ch0p1k3 <ch00p.228@gmail.com>\n",
      "Date:   Sun Jan 14 19:00:42 2024 +0300\n",
      "\n",
      "    add some trash\n",
      "\n",
      "\u001b[33mcommit 741a7486333d4d45fd712c2b52dc6b8112217354\u001b[m\u001b[33m (\u001b[m\u001b[1;31morigin/main\u001b[m\u001b[33m)\u001b[m\n",
      "Author: Ch0p1k3 <ch00p.228@gmail.com>\n",
      "Date:   Sun Jan 14 18:56:10 2024 +0300\n",
      "\n",
      "    better\n",
      "\n",
      "\u001b[33mcommit c37592252c7d7daf686f4ef3cfa617ea4c115608\u001b[m\n",
      "Author: Ch0p1k3 <ch00p.228@gmail.com>\n",
      "Date:   Sun Jan 14 18:54:28 2024 +0300\n",
      "\n",
      "    edit trash\n",
      "\n",
      "\u001b[33mcommit 180dbdef9bce9c15f21686c4a6ffdf4f337f328c\u001b[m\n",
      "Author: Ch0p1k3 <ch00p.228@gmail.com>\n",
      "Date:   Sun Jan 14 18:43:30 2024 +0300\n",
      "\n",
      "    better\n",
      "\n",
      "\u001b[33mcommit 773eb39e60ff530743a04abb990a14f6d32a6a48\u001b[m\n",
      "Author: Ch0p1k3 <ch00p.228@gmail.com>\n",
      "Date:   Sun Jan 14 18:29:30 2024 +0300\n",
      "\n",
      "    better\n",
      "\n",
      "\u001b[33mcommit 32635d7b15fc40fdb014be59e6944d9b0376091b\u001b[m\n",
      "Author: Ch0p1k3 <ch00p.228@gmail.com>\n",
      "Date:   Sun Jan 14 18:05:11 2024 +0300\n",
      "\n",
      "    better\n",
      "\n",
      "\u001b[33mcommit fba889411b312ba81dd2c572233614b7b4975ac6\u001b[m\n",
      "Author: Ch0p1k3 <ch00p.228@gmail.com>\n",
      "Date:   Sun Jan 14 17:49:13 2024 +0300\n",
      "\n",
      "    better\n",
      "\n",
      "\u001b[33mcommit a488c7a719197803eaa3886f526246030b7c85aa\u001b[m\n",
      "Author: Ch0p1k3 <ch00p.228@gmail.com>\n",
      "Date:   Sun Jan 14 17:47:53 2024 +0300\n",
      "\n",
      "    better\n",
      "\n",
      "\u001b[33mcommit 12f316ec42ec5a0ec8769fc9b056cae9d193ccd0\u001b[m\n",
      "Author: Ch0p1k3 <ch00p.228@gmail.com>\n",
      "Date:   Sun Jan 14 17:44:48 2024 +0300\n",
      "\n",
      "    better\n",
      "\n",
      "\u001b[33mcommit 1f1e93c25b0768338097e89a6007e98a8be8cf55\u001b[m\n",
      "Author: Ch0p1k3 <ch00p.228@gmail.com>\n",
      "Date:   Sun Jan 14 17:18:41 2024 +0300\n",
      "\n",
      "    wsl\n",
      "\n",
      "\u001b[33mcommit 2f0e4e912958ba909e71f982c504b919005ef8f1\u001b[m\n",
      "Author: Ch0p1k3 <ch00p.228@gmail.com>\n",
      "Date:   Sun Jan 14 17:07:09 2024 +0300\n",
      "\n",
      "    better\n",
      "\n",
      "\u001b[33mcommit 4c2d1b637b380683d9ccea94a4e532126e7f2735\u001b[m\n",
      "Author: Ch0p1k3 <ch00p.228@gmail.com>\n",
      "Date:   Sun Jan 14 16:29:57 2024 +0300\n",
      "\n",
      "    better\n",
      "\n",
      "\u001b[33mcommit 2ca41ac9f3377b20240644743908852397aea348\u001b[m\n",
      "Author: Ch0p1k3 <ch00p.228@gmail.com>\n",
      "Date:   Sun Jan 14 16:29:46 2024 +0300\n",
      "\n",
      "    better\n",
      "\n",
      "\u001b[33mcommit c3a4905377130bd5fdd74425c40338a6bb4e6917\u001b[m\n",
      "Author: Ch0p1k3 <ch00p.228@gmail.com>\n",
      "Date:   Sun Jan 14 16:25:51 2024 +0300\n",
      "\n",
      "    better\n",
      "\n",
      "\u001b[33mcommit 2513df93acdcdef5251b289d3e7aba1457841ddd\u001b[m\n",
      "Author: Ch0p1k3 <ch00p.228@gmail.com>\n",
      "Date:   Sun Jan 14 16:10:41 2024 +0300\n",
      "\n",
      "    welcome\n",
      "\n",
      "\u001b[33mcommit 2b4ae25eff85beef19248f0b39cb2357b170dd3e\u001b[m\n",
      "Author: Ch0p1k3 <ch00p.228@gmail.com>\n",
      "Date:   Sun Jan 14 16:09:43 2024 +0300\n",
      "\n",
      "    welcome\n",
      "\n",
      "\u001b[33mcommit e84a039ae2038e6b086444baf0b98ed44fa7313f\u001b[m\n",
      "Author: Ch0p1k3 <ch00p.228@gmail.com>\n",
      "Date:   Sun Jan 14 16:09:30 2024 +0300\n",
      "\n",
      "    welcome\n",
      "\n",
      "\u001b[33mcommit 91c378338985f425820cde8a66b2f4ace0381145\u001b[m\n",
      "Author: Ch0p1k3 <ch00p.228@gmail.com>\n",
      "Date:   Sun Jan 14 16:04:17 2024 +0300\n",
      "\n",
      "    better\n",
      "\n",
      "\u001b[33mcommit 519d95542ef28fb7a95cc0dad53791b380051982\u001b[m\n",
      "Author: Ch0p1k3 <ch00p.228@gmail.com>\n",
      "Date:   Sun Jan 14 16:03:46 2024 +0300\n",
      "\n",
      "    better\n",
      "\n",
      "\u001b[33mcommit f00d10aaebf6d611d93a3f825b174d25eeffd4b1\u001b[m\n",
      "Author: Ch0p1k3 <ch00p.228@gmail.com>\n",
      "Date:   Sun Jan 14 16:03:08 2024 +0300\n",
      "\n",
      "    update main readme\n",
      "\n",
      "\u001b[33mcommit 97da605663f5c0226bcdb66b4bd10757b948e5b4\u001b[m\n",
      "Author: Ch0p1k3 <ch00p.228@gmail.com>\n",
      "Date:   Sun Jan 14 15:53:11 2024 +0300\n",
      "\n",
      "    better\n",
      "\n",
      "\u001b[33mcommit 280c5aad097657cede5a65b4da28464280a5a3cd\u001b[m\n",
      "Author: Ch0p1k3 <ch00p.228@gmail.com>\n",
      "Date:   Sun Jan 14 15:52:50 2024 +0300\n",
      "\n",
      "    better\n",
      "\n",
      "\u001b[33mcommit 2ca8fd36e80422b81a729b33f3563bc14d1e61f0\u001b[m\n",
      "Author: Ch0p1k3 <ch00p.228@gmail.com>\n",
      "Date:   Sun Jan 14 15:52:03 2024 +0300\n",
      "\n",
      "    update vscode.md\n",
      "\n",
      "\u001b[33mcommit 6f159c3fdece4976da5ab05c7d1cca5793c20f8c\u001b[m\n",
      "Author: Ch0p1k3 <ch00p.228@gmail.com>\n",
      "Date:   Sun Jan 14 15:51:26 2024 +0300\n",
      "\n",
      "    update wsl.md\n",
      "\n",
      "\u001b[33mcommit c6433c3924be0427f612b41e05fc899e1ecd14de\u001b[m\n",
      "Author: Ch0p1k3 <ch00p.228@gmail.com>\n",
      "Date:   Sun Jan 14 15:48:55 2024 +0300\n",
      "\n",
      "    update wsl.md\n",
      "\n",
      "\u001b[33mcommit ecc9fcdbba892516572f373deca2a73781fd656c\u001b[m\n",
      "Author: Ch0p1k3 <ch00p.228@gmail.com>\n",
      "Date:   Sun Jan 14 15:47:45 2024 +0300\n",
      "\n",
      "    update wsl.md\n",
      "\n",
      "\u001b[33mcommit 1a88a975cd58453bbaa34c090acc0c0183fdc339\u001b[m\n",
      "Author: Ch0p1k3 <ch00p.228@gmail.com>\n",
      "Date:   Sun Jan 14 15:43:50 2024 +0300\n",
      "\n",
      "    wsl, vscode instructions\n",
      "\n",
      "\u001b[33mcommit 0493e414fb195563bba5e9583bff4daef293f2bd\u001b[m\n",
      "Author: Ch0p1k3 <ch00p.228@gmail.com>\n",
      "Date:   Sun Jan 14 12:56:22 2024 +0300\n",
      "\n",
      "    Sem 01-02\n"
     ]
    }
   ],
   "source": [
    "!git log"
   ]
  },
  {
   "cell_type": "markdown",
   "metadata": {},
   "source": [
    "`git reset <commit_hash> --soft` - откатывает коммит, при этом не удаляя изменения\n",
    "`git reset <commit_hash>` - `git reset <commit_hash>`\n",
    "`git reset <commit_hash> --hard` - откатывает коммит и удаляет изменения"
   ]
  },
  {
   "cell_type": "code",
   "execution_count": 99,
   "metadata": {
    "vscode": {
     "languageId": "shellscript"
    }
   },
   "outputs": [
    {
     "name": "stdout",
     "output_type": "stream",
     "text": [
      "HEAD is now at 741a748 better\n"
     ]
    }
   ],
   "source": [
    "!git reset --hard 741a7486333d4d45fd712c2b52dc6b8112217354"
   ]
  },
  {
   "cell_type": "markdown",
   "metadata": {
    "vscode": {
     "languageId": "shellscript"
    }
   },
   "source": [
    "`git checkout -b <new_branch> <old_branch>` - создание ветки, если не указать"
   ]
  },
  {
   "cell_type": "markdown",
   "metadata": {},
   "source": [
    "![](images/commit-and-tree.png)"
   ]
  },
  {
   "cell_type": "markdown",
   "metadata": {},
   "source": [
    "![](images/head-to-master.png)"
   ]
  },
  {
   "cell_type": "markdown",
   "metadata": {},
   "source": [
    "![](images/branch-and-history.png)"
   ]
  },
  {
   "cell_type": "markdown",
   "metadata": {},
   "source": [
    "![](images/advance-testing.png)"
   ]
  },
  {
   "cell_type": "markdown",
   "metadata": {},
   "source": [
    "![](images/checkout-master.png)"
   ]
  },
  {
   "cell_type": "code",
   "execution_count": 101,
   "metadata": {
    "vscode": {
     "languageId": "shellscript"
    }
   },
   "outputs": [
    {
     "name": "stdout",
     "output_type": "stream",
     "text": [
      "Switched to a new branch 'some_trash'\n"
     ]
    }
   ],
   "source": [
    "# git checkout -b some_trash\n",
    "!git checkout -b some_trash main"
   ]
  },
  {
   "cell_type": "markdown",
   "metadata": {},
   "source": [
    "`git branch` - показывает все ветки и ту, на которой мы сейчас находимся"
   ]
  },
  {
   "cell_type": "code",
   "execution_count": 102,
   "metadata": {
    "vscode": {
     "languageId": "shellscript"
    }
   },
   "outputs": [
    {
     "name": "stdout",
     "output_type": "stream",
     "text": [
      "  main\u001b[m\n",
      "* \u001b[32msome_trash\u001b[m\n"
     ]
    }
   ],
   "source": [
    "!git branch"
   ]
  },
  {
   "cell_type": "code",
   "execution_count": 103,
   "metadata": {
    "vscode": {
     "languageId": "shellscript"
    }
   },
   "outputs": [
    {
     "name": "stdout",
     "output_type": "stream",
     "text": [
      "[some_trash 5917b56] edit trash\n",
      " 1 file changed, 1 insertion(+)\n",
      " create mode 100644 sem01-02/presentations/trash.tmp\n"
     ]
    }
   ],
   "source": [
    "!touch trash.tmp\n",
    "!echo \"trash\" > trash.tmp\n",
    "!git add trash.tmp\n",
    "!git commit -m \"edit trash\""
   ]
  },
  {
   "cell_type": "code",
   "execution_count": 105,
   "metadata": {
    "vscode": {
     "languageId": "shellscript"
    }
   },
   "outputs": [
    {
     "name": "stdout",
     "output_type": "stream",
     "text": [
      "fatal: The current branch some_trash has no upstream branch.\n",
      "To push the current branch and set the remote as upstream, use\n",
      "\n",
      "    git push --set-upstream origin some_trash\n",
      "\n",
      "To have this happen automatically for branches without a tracking\n",
      "upstream, see 'push.autoSetupRemote' in 'git help config'.\n",
      "\n"
     ]
    }
   ],
   "source": [
    "!git push"
   ]
  },
  {
   "cell_type": "markdown",
   "metadata": {},
   "source": [
    "`git remote` - показывается локальные ветки"
   ]
  },
  {
   "cell_type": "code",
   "execution_count": 106,
   "metadata": {
    "vscode": {
     "languageId": "shellscript"
    }
   },
   "outputs": [
    {
     "name": "stdout",
     "output_type": "stream",
     "text": [
      "origin\n"
     ]
    }
   ],
   "source": [
    "!git remote"
   ]
  },
  {
   "cell_type": "code",
   "execution_count": 107,
   "metadata": {
    "vscode": {
     "languageId": "shellscript"
    }
   },
   "outputs": [
    {
     "name": "stdout",
     "output_type": "stream",
     "text": [
      "origin\tgit@github.com:Ch0p1k3/cpp-ami-2023.git (fetch)\n",
      "origin\tgit@github.com:Ch0p1k3/cpp-ami-2023.git (push)\n"
     ]
    }
   ],
   "source": [
    "!git remote -v"
   ]
  },
  {
   "cell_type": "code",
   "execution_count": 109,
   "metadata": {
    "vscode": {
     "languageId": "shellscript"
    }
   },
   "outputs": [
    {
     "name": "stdout",
     "output_type": "stream",
     "text": [
      "Enumerating objects: 8, done.\n",
      "Counting objects: 100% (8/8), done.\n",
      "Delta compression using up to 8 threads\n",
      "Compressing objects: 100% (4/4), done.\n",
      "Writing objects: 100% (5/5), 402 bytes | 402.00 KiB/s, done.\n",
      "Total 5 (delta 2), reused 0 (delta 0), pack-reused 0\n",
      "remote: Resolving deltas: 100% (2/2), completed with 2 local objects.\u001b[K\n",
      "remote: \n",
      "remote: Create a pull request for 'some_trash' on GitHub by visiting:\u001b[K\n",
      "remote:      https://github.com/Ch0p1k3/cpp-ami-2023/pull/new/some_trash\u001b[K\n",
      "remote: \n",
      "To github.com:Ch0p1k3/cpp-ami-2023.git\n",
      " * [new branch]      some_trash -> some_trash\n",
      "branch 'some_trash' set up to track 'origin/some_trash'.\n"
     ]
    }
   ],
   "source": [
    "!git push --set-upstream origin some_trash"
   ]
  },
  {
   "cell_type": "code",
   "execution_count": null,
   "metadata": {
    "vscode": {
     "languageId": "shellscript"
    }
   },
   "outputs": [],
   "source": [
    "!echo \"edited trash\" > trash.tmp\n",
    "!git commit -a -m \"edit trash 2\""
   ]
  },
  {
   "cell_type": "code",
   "execution_count": 110,
   "metadata": {
    "vscode": {
     "languageId": "shellscript"
    }
   },
   "outputs": [
    {
     "name": "stdout",
     "output_type": "stream",
     "text": [
      "Switched to branch 'main'\n",
      "Your branch is up to date with 'origin/main'.\n"
     ]
    }
   ],
   "source": [
    "!git checkout main"
   ]
  },
  {
   "cell_type": "markdown",
   "metadata": {},
   "source": [
    "`git pull` - подтянуть изменения из ветки удаленного репозитория"
   ]
  },
  {
   "cell_type": "markdown",
   "metadata": {
    "vscode": {
     "languageId": "shellscript"
    }
   },
   "source": [
    "Git тренажер: https://gitexercises.fracz.com/. Я бы советовал пройти следующие упражнения (но лучше пройти все, знание гита это база, без которой никуда):\n",
    "- master\n",
    "- commit-one-file\n",
    "- commit-one-file-staged\n",
    "- ignore-them\n",
    "- chase-branch\n",
    "- merge-conflict\n",
    "- save-your-work\n",
    "- remove-ignored\n",
    "- case-sensitive-filename\n",
    "- fix-typo\n",
    "- executable\n"
   ]
  },
  {
   "cell_type": "markdown",
   "metadata": {},
   "source": []
  }
 ],
 "metadata": {
  "kernelspec": {
   "display_name": "Python 3",
   "language": "python",
   "name": "python3"
  },
  "language_info": {
   "codemirror_mode": {
    "name": "ipython",
    "version": 3
   },
   "file_extension": ".py",
   "mimetype": "text/x-python",
   "name": "python",
   "nbconvert_exporter": "python",
   "pygments_lexer": "ipython3",
   "version": "3.9.6"
  }
 },
 "nbformat": 4,
 "nbformat_minor": 2
}
